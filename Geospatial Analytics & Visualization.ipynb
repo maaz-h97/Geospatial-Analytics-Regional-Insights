{
 "cells": [
  {
   "cell_type": "markdown",
   "id": "e6bef461-9dfc-4274-88f4-7ffc200ddc1b",
   "metadata": {},
   "source": [
    "**🌍 Geospatial Analytics – Canadian Customer Insights**\n",
    "\n",
    "**🎯 Objective:**\n",
    "Visualize and analyze customer distribution, order behavior, and spending trends across major Canadian cities.\n",
    "\n",
    "**📁 Dataset Summary:**\n",
    "500 Customers across 8 major cities\n",
    "Fields: Customer_ID, City, Latitude, Longitude, Order_Count, Total_Spent\n",
    "\n",
    "**🧩 Dashboard Features (Built in Tableau):**\n",
    "KPI Cards:\n",
    "Total Customers\n",
    "Avg Orders per Customer\n",
    "Avg Spend\n",
    "Interactive Map:\n",
    "Customers plotted by lat/long\n",
    "Circle color/size by Total Spend\n",
    "Bar Chart:\n",
    "Avg Spend by City\n",
    "Filter:\n",
    "City selection (optional)\n",
    "\n",
    "**🔍 Key Insights:**\n",
    "Geographic patterns in customer concentration\n",
    "Spending hotspots by city\n",
    "High-value customers tend to cluster around Edmonton and Winnipeg \n",
    "\n",
    "**✅ Tools Used:**\n",
    "Tableau for mapping and dashboard design"
   ]
  },
  {
   "cell_type": "code",
   "execution_count": null,
   "id": "77d4aba6-3866-41e6-8320-39407b88f6ad",
   "metadata": {},
   "outputs": [],
   "source": []
  }
 ],
 "metadata": {
  "kernelspec": {
   "display_name": "Python 3 (ipykernel)",
   "language": "python",
   "name": "python3"
  },
  "language_info": {
   "codemirror_mode": {
    "name": "ipython",
    "version": 3
   },
   "file_extension": ".py",
   "mimetype": "text/x-python",
   "name": "python",
   "nbconvert_exporter": "python",
   "pygments_lexer": "ipython3",
   "version": "3.12.2"
  }
 },
 "nbformat": 4,
 "nbformat_minor": 5
}
